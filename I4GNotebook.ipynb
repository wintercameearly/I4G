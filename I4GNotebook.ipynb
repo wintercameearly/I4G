{
  "nbformat": 4,
  "nbformat_minor": 0,
  "metadata": {
    "colab": {
      "name": "I4GNotebook.ipynb",
      "provenance": [],
      "authorship_tag": "ABX9TyMKqv+nhm5+1TjlsHJHGfQu",
      "include_colab_link": true
    },
    "kernelspec": {
      "name": "python3",
      "display_name": "Python 3"
    }
  },
  "cells": [
    {
      "cell_type": "markdown",
      "metadata": {
        "id": "view-in-github",
        "colab_type": "text"
      },
      "source": [
        "<a href=\"https://colab.research.google.com/github/wintercameearly/I4G/blob/master/I4GNotebook.ipynb\" target=\"_parent\"><img src=\"https://colab.research.google.com/assets/colab-badge.svg\" alt=\"Open In Colab\"/></a>"
      ]
    },
    {
      "cell_type": "markdown",
      "metadata": {
        "id": "Q0cs3EqxWMkQ",
        "colab_type": "text"
      },
      "source": [
        "\n",
        "# \"in\" and \"not in\" Logical Operators ?"
      ]
    },
    {
      "cell_type": "markdown",
      "metadata": {
        "id": "y5XYNVFyWbE0",
        "colab_type": "text"
      },
      "source": [
        "These logical operators are responsible for checking whether a particular\n",
        "condition is true or not, and then returning the boolean status of the condition\n",
        "\n",
        "The in operator checks if a value is in a sequence and not in is responsible for checking if a value is not in a subsequence \n",
        "\n",
        "EXAMPLE : The code below checks whether the letter \"w\" is in a word oin the list, then returns the number of words in the list with that particular letter "
      ]
    },
    {
      "cell_type": "code",
      "metadata": {
        "id": "8qtRTLyRWsly",
        "colab_type": "code",
        "colab": {
          "base_uri": "https://localhost:8080/",
          "height": 34
        },
        "outputId": "7f0298a0-aecb-4fc0-ed48-5a08f0654767"
      },
      "source": [
        "items = [\"whirring\", \"wow!\", \"calendar\", \"wry\", \"glass\", \"\", \"llama\",\"tumultuous\",\"owing\"]\n",
        "\n",
        "acc_num = 0\n",
        "for word in items:\n",
        "    if \"w\" in word:\n",
        "        acc_num = acc_num +1\n",
        "\n",
        "\n",
        "print(acc_num)"
      ],
      "execution_count": 1,
      "outputs": [
        {
          "output_type": "stream",
          "text": [
            "4\n"
          ],
          "name": "stdout"
        }
      ]
    },
    {
      "cell_type": "markdown",
      "metadata": {
        "id": "QWvu9tiaWu8w",
        "colab_type": "text"
      },
      "source": [
        "# How does precedence of operators work ?"
      ]
    },
    {
      "cell_type": "markdown",
      "metadata": {
        "id": "za9PuuayWx-i",
        "colab_type": "text"
      },
      "source": [
        "In an expression, the Python interpreter evaluates operators with higher precedence first.\n",
        "\n",
        "For example, the multiplication operation is interpreted before the addition in a simple equation of addition and multiplication only. "
      ]
    },
    {
      "cell_type": "code",
      "metadata": {
        "id": "tg8v0ASJW55u",
        "colab_type": "code",
        "colab": {
          "base_uri": "https://localhost:8080/",
          "height": 51
        },
        "outputId": "7f124f3b-ecea-416c-daa9-620ccb6bba1c"
      },
      "source": [
        "# Multiplication get evaluated before the addition operation\n",
        "sum = 5 + 5 * 3\n",
        "print(sum)\n",
        "# Result: 20\n",
        "# Parentheses () overriding the precedence of the arithmetic operators\n",
        "sum = (5 + 5) * 3\n",
        "# Output: 30\n",
        "print(sum)"
      ],
      "execution_count": 2,
      "outputs": [
        {
          "output_type": "stream",
          "text": [
            "20\n",
            "30\n"
          ],
          "name": "stdout"
        }
      ]
    },
    {
      "cell_type": "markdown",
      "metadata": {
        "id": "KuMYRulBW8bI",
        "colab_type": "text"
      },
      "source": [
        "# Conditional Execution statements ? \n"
      ]
    },
    {
      "cell_type": "markdown",
      "metadata": {
        "id": "Jnv1seLUW_1M",
        "colab_type": "text"
      },
      "source": [
        "Conditional statements are statements that can be used to check if conditions exist, then return a boolean, and based on the returned boolean, execute a block of code or not\n",
        "\n",
        "Conditional operators in ptyhon are if, else, elif\n",
        "\n",
        "Examples of conditional statements are used in if statements in the first and last coeblocks of this notebook\n"
      ]
    },
    {
      "cell_type": "markdown",
      "metadata": {
        "id": "md-IzGLdXFH1",
        "colab_type": "text"
      },
      "source": [
        "# How does accumulator pattern work ?"
      ]
    },
    {
      "cell_type": "markdown",
      "metadata": {
        "id": "OwbC_-2QXJpU",
        "colab_type": "text"
      },
      "source": [
        "Accumulator pattern refers to the process of iterating and updating a variable \n",
        "\n",
        "Accumulator pattern is often used to count instances of a sequence or of elements in a sequence \n",
        "\n",
        "An EXAMPLE of accumulator pattern can be seen below, counting the number of vowels in each word in the sentence s . "
      ]
    },
    {
      "cell_type": "code",
      "metadata": {
        "id": "c2k3L6NRXQRX",
        "colab_type": "code",
        "colab": {
          "base_uri": "https://localhost:8080/",
          "height": 34
        },
        "outputId": "9618c577-8756-417d-9b90-4c72fc143665"
      },
      "source": [
        "s = \"singing in the rain and playing in the rain are two entirely different situations but both can be fun\"\n",
        "vowels = ['a','e','i','o','u']\n",
        "\n",
        "# Write your code here.\n",
        "num_vowels = 0 \n",
        "for ele in s:\n",
        "    for vowel in vowels:\n",
        "        if vowel in ele:\n",
        "            num_vowels = num_vowels + 1\n",
        "\n",
        "\n",
        "print(num_vowels)"
      ],
      "execution_count": 3,
      "outputs": [
        {
          "output_type": "stream",
          "text": [
            "32\n"
          ],
          "name": "stdout"
        }
      ]
    }
  ]
}